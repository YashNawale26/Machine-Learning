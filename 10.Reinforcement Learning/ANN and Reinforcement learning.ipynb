{
 "cells": [
  {
   "cell_type": "code",
   "execution_count": 1,
   "metadata": {},
   "outputs": [
    {
     "name": "stdout",
     "output_type": "stream",
     "text": [
      "Collecting gymNote: you may need to restart the kernel to use updated packages.\n"
     ]
    },
    {
     "name": "stderr",
     "output_type": "stream",
     "text": [
      "\n",
      "[notice] A new release of pip is available: 23.2.1 -> 24.0\n",
      "[notice] To update, run: C:\\Users\\HP\\AppData\\Local\\Microsoft\\WindowsApps\\PythonSoftwareFoundation.Python.3.11_qbz5n2kfra8p0\\python.exe -m pip install --upgrade pip\n"
     ]
    },
    {
     "name": "stdout",
     "output_type": "stream",
     "text": [
      "\n",
      "  Downloading gym-0.26.2.tar.gz (721 kB)\n",
      "     ---------------------------------------- 0.0/721.7 kB ? eta -:--:--\n",
      "      --------------------------------------- 10.2/721.7 kB ? eta -:--:--\n",
      "     - ----------------------------------- 30.7/721.7 kB 262.6 kB/s eta 0:00:03\n",
      "     --- --------------------------------- 71.7/721.7 kB 438.9 kB/s eta 0:00:02\n",
      "     --------- -------------------------- 194.6/721.7 kB 985.7 kB/s eta 0:00:01\n",
      "     ---------------- --------------------- 317.4/721.7 kB 1.3 MB/s eta 0:00:01\n",
      "     ----------------------- -------------- 450.6/721.7 kB 1.6 MB/s eta 0:00:01\n",
      "     ----------------------------- -------- 563.2/721.7 kB 1.8 MB/s eta 0:00:01\n",
      "     ----------------------------------- -- 665.6/721.7 kB 1.8 MB/s eta 0:00:01\n",
      "     -------------------------------------- 721.7/721.7 kB 1.8 MB/s eta 0:00:00\n",
      "  Installing build dependencies: started\n",
      "  Installing build dependencies: finished with status 'done'\n",
      "  Getting requirements to build wheel: started\n",
      "  Getting requirements to build wheel: finished with status 'done'\n",
      "  Preparing metadata (pyproject.toml): started\n",
      "  Preparing metadata (pyproject.toml): finished with status 'done'\n",
      "Requirement already satisfied: numpy>=1.18.0 in c:\\users\\hp\\appdata\\local\\packages\\pythonsoftwarefoundation.python.3.11_qbz5n2kfra8p0\\localcache\\local-packages\\python311\\site-packages (from gym) (1.25.2)\n",
      "Collecting cloudpickle>=1.2.0 (from gym)\n",
      "  Obtaining dependency information for cloudpickle>=1.2.0 from https://files.pythonhosted.org/packages/96/43/dae06432d0c4b1dc9e9149ad37b4ca8384cf6eb7700cd9215b177b914f0a/cloudpickle-3.0.0-py3-none-any.whl.metadata\n",
      "  Downloading cloudpickle-3.0.0-py3-none-any.whl.metadata (7.0 kB)\n",
      "Collecting gym-notices>=0.0.4 (from gym)\n",
      "  Obtaining dependency information for gym-notices>=0.0.4 from https://files.pythonhosted.org/packages/25/26/d786c6bec30fe6110fd3d22c9a273a2a0e56c0b73b93e25ea1af5a53243b/gym_notices-0.0.8-py3-none-any.whl.metadata\n",
      "  Downloading gym_notices-0.0.8-py3-none-any.whl.metadata (1.0 kB)\n",
      "Downloading cloudpickle-3.0.0-py3-none-any.whl (20 kB)\n",
      "Downloading gym_notices-0.0.8-py3-none-any.whl (3.0 kB)\n",
      "Building wheels for collected packages: gym\n",
      "  Building wheel for gym (pyproject.toml): started\n",
      "  Building wheel for gym (pyproject.toml): finished with status 'done'\n",
      "  Created wheel for gym: filename=gym-0.26.2-py3-none-any.whl size=827634 sha256=5ae641a7d7af7acf89f1fc7ac9f0fbaf45248bf35db312a3baa1a2a68a562efa\n",
      "  Stored in directory: c:\\users\\hp\\appdata\\local\\pip\\cache\\wheels\\1c\\77\\9e\\9af5470201a0b0543937933ee99ba884cd237d2faefe8f4d37\n",
      "Successfully built gym\n",
      "Installing collected packages: gym-notices, cloudpickle, gym\n",
      "Successfully installed cloudpickle-3.0.0 gym-0.26.2 gym-notices-0.0.8\n"
     ]
    }
   ],
   "source": [
    "! pip install gym"
   ]
  },
  {
   "cell_type": "code",
   "execution_count": 2,
   "metadata": {},
   "outputs": [
    {
     "name": "stdout",
     "output_type": "stream",
     "text": [
      "(array([-0.43062884,  0.        ], dtype=float32), {})\n",
      "Step result: (array([-4.3031710e-01,  3.1173066e-04], dtype=float32), -1.0, False, False, {})\n",
      "Received unexpected extra values from env.step()\n",
      "Episode finished after 1 timesteps\n",
      "(array([-0.5777299,  0.       ], dtype=float32), {})\n",
      "Step result: (array([-5.7732564e-01,  4.0420116e-04], dtype=float32), -1.0, False, False, {})\n",
      "Received unexpected extra values from env.step()\n",
      "Episode finished after 1 timesteps\n",
      "(array([-0.5788686,  0.       ], dtype=float32), {})\n",
      "Step result: (array([-0.577456  ,  0.00141263], dtype=float32), -1.0, False, False, {})\n",
      "Received unexpected extra values from env.step()\n",
      "Episode finished after 1 timesteps\n",
      "(array([-0.41164157,  0.        ], dtype=float32), {})\n",
      "Step result: (array([-4.1146556e-01,  1.7601949e-04], dtype=float32), -1.0, False, False, {})\n",
      "Received unexpected extra values from env.step()\n",
      "Episode finished after 1 timesteps\n",
      "(array([-0.41983327,  0.        ], dtype=float32), {})\n",
      "Step result: (array([-4.1959900e-01,  2.3426718e-04], dtype=float32), -1.0, False, False, {})\n",
      "Received unexpected extra values from env.step()\n",
      "Episode finished after 1 timesteps\n",
      "(array([-0.51688164,  0.        ], dtype=float32), {})\n",
      "Step result: (array([-0.515932  ,  0.00094963], dtype=float32), -1.0, False, False, {})\n",
      "Received unexpected extra values from env.step()\n",
      "Episode finished after 1 timesteps\n",
      "(array([-0.41165793,  0.        ], dtype=float32), {})\n",
      "Step result: (array([-4.1148180e-01,  1.7613536e-04], dtype=float32), -1.0, False, False, {})\n",
      "Received unexpected extra values from env.step()\n",
      "Episode finished after 1 timesteps\n",
      "(array([-0.4909459,  0.       ], dtype=float32), {})\n",
      "Step result: (array([-4.911904e-01, -2.445051e-04], dtype=float32), -1.0, False, False, {})\n",
      "Received unexpected extra values from env.step()\n",
      "Episode finished after 1 timesteps\n",
      "(array([-0.54458725,  0.        ], dtype=float32), {})\n",
      "Step result: (array([-0.54343   ,  0.00115731], dtype=float32), -1.0, False, False, {})\n",
      "Received unexpected extra values from env.step()\n",
      "Episode finished after 1 timesteps\n",
      "(array([-0.42715713,  0.        ], dtype=float32), {})\n",
      "Step result: (array([-4.2687038e-01,  2.8673676e-04], dtype=float32), -1.0, False, False, {})\n",
      "Received unexpected extra values from env.step()\n",
      "Episode finished after 1 timesteps\n",
      "(array([-0.5465115,  0.       ], dtype=float32), {})\n",
      "Step result: (array([-0.5453397 ,  0.00117171], dtype=float32), -1.0, False, False, {})\n",
      "Received unexpected extra values from env.step()\n",
      "Episode finished after 1 timesteps\n",
      "(array([-0.5375078,  0.       ], dtype=float32), {})\n",
      "Step result: (array([-0.5364035 ,  0.00110429], dtype=float32), -1.0, False, False, {})\n",
      "Received unexpected extra values from env.step()\n",
      "Episode finished after 1 timesteps\n",
      "(array([-0.49137297,  0.        ], dtype=float32), {})\n",
      "Step result: (array([-0.4906143 ,  0.00075868], dtype=float32), -1.0, False, False, {})\n",
      "Received unexpected extra values from env.step()\n",
      "Episode finished after 1 timesteps\n",
      "(array([-0.40794182,  0.        ], dtype=float32), {})\n",
      "Step result: (array([-0.40979195, -0.00185013], dtype=float32), -1.0, False, False, {})\n",
      "Received unexpected extra values from env.step()\n",
      "Episode finished after 1 timesteps\n",
      "(array([-0.5561089,  0.       ], dtype=float32), {})\n",
      "Step result: (array([-0.55686545, -0.00075656], dtype=float32), -1.0, False, False, {})\n",
      "Received unexpected extra values from env.step()\n",
      "Episode finished after 1 timesteps\n",
      "(array([-0.5797627,  0.       ], dtype=float32), {})\n",
      "Step result: (array([-0.5803434 , -0.00058076], dtype=float32), -1.0, False, False, {})\n",
      "Received unexpected extra values from env.step()\n",
      "Episode finished after 1 timesteps\n",
      "(array([-0.5918038,  0.       ], dtype=float32), {})\n",
      "Step result: (array([-5.922958e-01, -4.920243e-04], dtype=float32), -1.0, False, False, {})\n",
      "Received unexpected extra values from env.step()\n",
      "Episode finished after 1 timesteps\n",
      "(array([-0.5113132,  0.       ], dtype=float32), {})\n",
      "Step result: (array([-0.5104053 ,  0.00090788], dtype=float32), -1.0, False, False, {})\n",
      "Received unexpected extra values from env.step()\n",
      "Episode finished after 1 timesteps\n",
      "(array([-0.53948843,  0.        ], dtype=float32), {})\n",
      "Step result: (array([-5.3936934e-01,  1.1912742e-04], dtype=float32), -1.0, False, False, {})\n",
      "Received unexpected extra values from env.step()\n",
      "Episode finished after 1 timesteps\n",
      "(array([-0.51653254,  0.        ], dtype=float32), {})\n",
      "Step result: (array([-0.5175856 , -0.00105299], dtype=float32), -1.0, False, False, {})\n",
      "Received unexpected extra values from env.step()\n",
      "Episode finished after 1 timesteps\n"
     ]
    },
    {
     "name": "stderr",
     "output_type": "stream",
     "text": [
      "C:\\Users\\HP\\AppData\\Local\\Packages\\PythonSoftwareFoundation.Python.3.11_qbz5n2kfra8p0\\LocalCache\\local-packages\\Python311\\site-packages\\gym\\envs\\classic_control\\mountain_car.py:171: UserWarning: \u001b[33mWARN: You are calling render method without specifying any render mode. You can specify the render_mode at initialization, e.g. gym(\"MountainCar-v0\", render_mode=\"rgb_array\")\u001b[0m\n",
      "  gym.logger.warn(\n",
      "C:\\Users\\HP\\AppData\\Local\\Packages\\PythonSoftwareFoundation.Python.3.11_qbz5n2kfra8p0\\LocalCache\\local-packages\\Python311\\site-packages\\gym\\utils\\passive_env_checker.py:233: DeprecationWarning: `np.bool8` is a deprecated alias for `np.bool_`.  (Deprecated NumPy 1.24)\n",
      "  if not isinstance(terminated, (bool, np.bool8)):\n"
     ]
    }
   ],
   "source": [
    "import gym\n",
    "\n",
    "env = gym.make('MountainCar-v0')\n",
    "num_episodes = 20\n",
    "\n",
    "for i in range(num_episodes):\n",
    "    t = 0\n",
    "    observation = env.reset()  # Initialize observation\n",
    "    while True:\n",
    "        t += 1\n",
    "        env.render()\n",
    "        print(observation)  # Print the observation\n",
    "        action = env.action_space.sample()\n",
    "        step_result = env.step(env.action_space.sample())  # Take a random action\n",
    "        print(\"Step result:\", step_result)\n",
    "        if len(step_result) > 4:\n",
    "            print(\"Received unexpected extra values from env.step()\")\n",
    "        elif len(step_result) < 4:\n",
    "            print(\"Received unexpected missing values from env.step()\")\n",
    "        observation, reward, done, _ = step_result[:4]  \n",
    "        done=True\n",
    "        if done:\n",
    "            print(\"Episode finished after {} timesteps\".format(t))\n",
    "            break\n",
    "\n",
    "env.close()\n"
   ]
  },
  {
   "cell_type": "code",
   "execution_count": null,
   "metadata": {},
   "outputs": [],
   "source": []
  }
 ],
 "metadata": {
  "kernelspec": {
   "display_name": "Python 3 (ipykernel)",
   "language": "python",
   "name": "python3"
  },
  "language_info": {
   "codemirror_mode": {
    "name": "ipython",
    "version": 3
   },
   "file_extension": ".py",
   "mimetype": "text/x-python",
   "name": "python",
   "nbconvert_exporter": "python",
   "pygments_lexer": "ipython3",
   "version": "3.11.7"
  }
 },
 "nbformat": 4,
 "nbformat_minor": 4
}
