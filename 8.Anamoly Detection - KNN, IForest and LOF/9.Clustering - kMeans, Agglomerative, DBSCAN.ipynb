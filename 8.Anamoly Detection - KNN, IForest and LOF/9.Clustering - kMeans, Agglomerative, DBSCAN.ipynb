{
 "cells": [
  {
   "cell_type": "code",
   "execution_count": null,
   "id": "3b056bc3",
   "metadata": {
    "tags": []
   },
   "outputs": [],
   "source": [
    "pip install pyod"
   ]
  },
  {
   "cell_type": "code",
   "execution_count": null,
   "id": "54e73156",
   "metadata": {
    "tags": []
   },
   "outputs": [],
   "source": [
    "pip install --upgrade pyod"
   ]
  },
  {
   "cell_type": "code",
   "execution_count": null,
   "id": "07b89204",
   "metadata": {
    "tags": []
   },
   "outputs": [],
   "source": [
    "pip install --upgrade numba\n"
   ]
  },
  {
   "cell_type": "code",
   "execution_count": null,
   "id": "ea6816ab",
   "metadata": {
    "tags": []
   },
   "outputs": [],
   "source": [
    "pip install combo"
   ]
  },
  {
   "cell_type": "code",
   "execution_count": null,
   "id": "125816a5",
   "metadata": {
    "tags": []
   },
   "outputs": [],
   "source": [
    "import pandas as pd\n",
    "import seaborn as sns\n",
    "import matplotlib.pyplot as plt\n",
    "\n",
    "# Load the dataset\n",
    "data = pd.read_csv(\"bank-additional-full_normalised.csv\")  # Replace \"your_dataset.csv\" with the actual filename\n",
    "\n",
    "# Summary statistics\n",
    "print(data.describe())\n",
    "\n",
    "# Check for missing values\n",
    "print(\"null values:-\")\n",
    "print(data.isnull().sum())\n",
    "\n",
    "# # Visualize distribution of numerical features\n",
    "# sns.pairplot(data)\n",
    "# plt.show()\n",
    "\n",
    "# # Visualize distribution of categorical features\n",
    "# categorical_features = ['job', 'marital', 'education', 'default', 'housing', 'loan', 'contact', 'month', 'day_of_week', 'poutcome']\n",
    "# for feature in categorical_features:\n",
    "#     plt.figure(figsize=(10, 6))\n",
    "#     sns.countplot(x=feature, data=data)\n",
    "#     plt.title(f'Distribution of {feature}')\n",
    "#     plt.show()\n"
   ]
  },
  {
   "cell_type": "code",
   "execution_count": null,
   "id": "44e49e40",
   "metadata": {
    "tags": []
   },
   "outputs": [],
   "source": [
    "import pandas as pd\n",
    "from pyod.models.knn import KNN\n",
    "from pyod.models.iforest import IForest\n",
    "from pyod.models.lof import LOF\n",
    "from pyod.models.combination import average, median, maximization\n",
    "from pyod.models.feature_bagging import FeatureBagging\n",
    "\n",
    "# Load the dataset\n",
    "data = pd.read_csv(\"bank-additional-full_normalised.csv\")  \n",
    "\n",
    "# Initialize detectors\n",
    "knn_detector = KNN()\n",
    "iforest_detector = IForest()\n",
    "lof_detector = LOF()\n",
    "\n",
    "# Fit detectors\n",
    "knn_detector.fit(data)\n",
    "iforest_detector.fit(data)\n",
    "lof_detector.fit(data)\n",
    "\n",
    "# Predict outlier scores\n",
    "knn_scores = knn_detector.decision_scores_\n",
    "iforest_scores = iforest_detector.decision_scores_\n",
    "lof_scores = lof_detector.decision_scores_\n",
    "\n",
    "# Combine scores using ensemble methods\n",
    "combined_scores_avg = average([knn_scores, iforest_scores, lof_scores])\n",
    "combined_scores_med = median([knn_scores, iforest_scores, lof_scores])\n",
    "combined_scores_max = maximization([knn_scores, iforest_scores, lof_scores])\n",
    "\n",
    "# Apply thresholding if necessary to obtain outlier labels\n",
    "# You can visualize outliers using a histogram or any other appropriate visualization method.\n"
   ]
  },
  {
   "cell_type": "code",
   "execution_count": null,
   "id": "5d96fc0c",
   "metadata": {},
   "outputs": [],
   "source": [
    "# Obtain the predicted outlier labels from your models\n",
    "# Example:\n",
    "predicted_labels_knn = knn_detector.labels_  # Assuming KNN detector is used\n",
    "predicted_labels_iforest = iforest_detector.labels_  # Assuming Isolation Forest detector is used\n",
    "predicted_labels_lof = lof_detector.labels_  # Assuming LOF detector is used\n",
    "\n",
    "# Compare the predicted outliers with actual anomalies using appropriate evaluation metrics\n",
    "# Example:\n",
    "from sklearn.metrics import classification_report\n",
    "\n",
    "print(\"Classification Report for KNN:\")\n",
    "print(classification_report(actual_anomalies, predicted_labels_knn))\n",
    "\n",
    "print(\"Classification Report for Isolation Forest:\")\n",
    "print(classification_report(actual_anomalies, predicted_labels_iforest))\n",
    "\n",
    "print(\"Classification Report for LOF:\")\n",
    "print(classification_report(actual_anomalies, predicted_labels_lof))\n"
   ]
  },
  {
   "cell_type": "code",
   "execution_count": null,
   "id": "c72969dc",
   "metadata": {},
   "outputs": [],
   "source": [
    "import seaborn as sns\n",
    "import matplotlib.pyplot as plt\n",
    "\n",
    "# Create scatter plots for anomalies detected by each detector\n",
    "plt.figure(figsize=(15, 5))\n",
    "plt.subplot(1, 3, 1)\n",
    "sns.scatterplot(x=data.iloc[:, 0], y=data.iloc[:, 1], hue=predicted_labels_knn, palette='Set1')\n",
    "plt.title('KNN Detected Anomalies')\n",
    "\n",
    "plt.subplot(1, 3, 2)\n",
    "sns.scatterplot(x=data.iloc[:, 0], y=data.iloc[:, 1], hue=predicted_labels_iforest, palette='Set1')\n",
    "plt.title('Isolation Forest Detected Anomalies')\n",
    "\n",
    "plt.subplot(1, 3, 3)\n",
    "sns.scatterplot(x=data.iloc[:, 0], y=data.iloc[:, 1], hue=predicted_labels_lof, palette='Set1')\n",
    "plt.title('LOF Detected Anomalies')\n",
    "\n",
    "plt.tight_layout()\n",
    "plt.show()"
   ]
  },
  {
   "cell_type": "code",
   "execution_count": null,
   "id": "f3db4b99",
   "metadata": {},
   "outputs": [],
   "source": []
  }
 ],
 "metadata": {
  "kernelspec": {
   "display_name": "Python 3 (ipykernel)",
   "language": "python",
   "name": "python3"
  },
  "language_info": {
   "codemirror_mode": {
    "name": "ipython",
    "version": 3
   },
   "file_extension": ".py",
   "mimetype": "text/x-python",
   "name": "python",
   "nbconvert_exporter": "python",
   "pygments_lexer": "ipython3",
   "version": "3.11.5"
  }
 },
 "nbformat": 4,
 "nbformat_minor": 5
}
